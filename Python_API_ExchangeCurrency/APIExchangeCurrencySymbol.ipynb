{
 "cells": [
  {
   "cell_type": "markdown",
   "metadata": {},
   "source": [
    "### Importing libraries"
   ]
  },
  {
   "cell_type": "code",
   "execution_count": 1,
   "metadata": {},
   "outputs": [],
   "source": [
    "from dataclasses import dataclass, asdict\n",
    "from typing import List\n",
    "import requests\n",
    "import json \n",
    "import time"
   ]
  },
  {
   "cell_type": "markdown",
   "metadata": {},
   "source": [
    "### Defining two dataclassess `ExchangeRate & CurrrencySymbol` with instance attributes\n",
    "#### Decorating these classess with dataclasses decorators and declare their attributes using type hints."
   ]
  },
  {
   "cell_type": "code",
   "execution_count": 2,
   "metadata": {},
   "outputs": [],
   "source": [
    "@dataclass\n",
    "class ExchangeRate:\n",
    "    date: str\n",
    "    base: str\n",
    "    EUR: float\n",
    "    USD: float \n",
    "    GBP: float\n",
    "    PLN: float\n",
    "    SEK: float\n",
    "    CHF: float\n",
    "    INR: float\n",
    "    CNY: float\n",
    "    \n",
    "@dataclass\n",
    "class CurrencySymbol:\n",
    "    EUR: str\n",
    "    SymbolEuro: str\n",
    "    USD: str\n",
    "    SymbolUSD: str\n",
    "    GBP: str\n",
    "    SymbolGBP: str\n",
    "    PLN: str\n",
    "    SymbolPLN: str\n",
    "    SEK: str\n",
    "    SymbolSEK: str\n",
    "    CHF: str\n",
    "    SymbolCHF: str\n",
    "    INR: str\n",
    "    SymbolINR: str\n",
    "    CNY: str\n",
    "    SymbolCNY: str"
   ]
  },
  {
   "cell_type": "markdown",
   "metadata": {},
   "source": [
    "### Sending HTTP requests to get data and return a JSON object of the result"
   ]
  },
  {
   "cell_type": "code",
   "execution_count": 3,
   "metadata": {},
   "outputs": [],
   "source": [
    "def make_request_currency(url: str=\"https://api.vatcomply.com/rates?base=EUR\") -> dict:\n",
    "    request = requests.get(url)\n",
    "    CurrencyData = request.json()\n",
    "    \n",
    "    if request.status_code != 200:\n",
    "        print(\"Error\")\n",
    "        return \n",
    "    \n",
    "    return CurrencyData"
   ]
  },
  {
   "cell_type": "code",
   "execution_count": 4,
   "metadata": {},
   "outputs": [],
   "source": [
    "def make_request_symbol(url: str=\"https://api.vatcomply.com/currencies\") -> dict:\n",
    "    request = requests.get(url)\n",
    "    CurrencySymbol = request.json()\n",
    "    \n",
    "    if request.status_code != 200:\n",
    "        print(\"Error\")\n",
    "        return \n",
    "    \n",
    "    return CurrencySymbol"
   ]
  },
  {
   "cell_type": "markdown",
   "metadata": {},
   "source": [
    "### Creating objects in dataclass for storing JSON data in particular keys\n",
    "#### Writing JSON data to a file "
   ]
  },
  {
   "cell_type": "code",
   "execution_count": 5,
   "metadata": {},
   "outputs": [],
   "source": [
    "def create_final_json_currency(json_data) -> dict:\n",
    "    currency = ExchangeRate(\n",
    "        date=json_data['date'],\n",
    "        base=json_data['base'],\n",
    "        EUR=json_data['rates']['EUR'],\n",
    "        USD=json_data['rates']['USD'],\n",
    "        GBP=json_data['rates']['GBP'],\n",
    "        PLN=json_data['rates']['PLN'],\n",
    "        SEK=json_data['rates']['SEK'],\n",
    "        CHF=json_data['rates']['CHF'],\n",
    "        INR=json_data['rates']['INR'],\n",
    "        CNY=json_data['rates']['CNY']     \n",
    "    )\n",
    "    return currency \n",
    "\n",
    "def save_to_file_currency(currency: ExchangeRate):\n",
    "    timestr = time.strftime(\"%d-%m-%Y\")\n",
    "    try: \n",
    "        with open(timestr + '-' + 'currency.json', 'w') as file:\n",
    "            json.dump(asdict(currency), file)\n",
    "    except FileNotFoundError as ex:\n",
    "        print(ex)"
   ]
  },
  {
   "cell_type": "markdown",
   "metadata": {},
   "source": [
    "### Creating objects in dataclass for storing JSON data in particular keys\n",
    "#### Writing JSON data to a file "
   ]
  },
  {
   "cell_type": "code",
   "execution_count": 6,
   "metadata": {},
   "outputs": [],
   "source": [
    "def create_final_json_symbol(json_data) -> dict:\n",
    "    symbol = CurrencySymbol(\n",
    "        EUR=json_data['EUR']['name'],\n",
    "        SymbolEuro=json_data['EUR']['symbol'],\n",
    "        USD=json_data['USD']['name'],\n",
    "        SymbolUSD=json_data['USD']['symbol'],\n",
    "        GBP=json_data['GBP']['name'],\n",
    "        SymbolGBP=json_data['GBP']['symbol'],\n",
    "        PLN=json_data['PLN']['name'],\n",
    "        SymbolPLN=json_data['PLN']['symbol'],\n",
    "        SEK=json_data['SEK']['name'],\n",
    "        SymbolSEK=json_data['SEK']['symbol'],\n",
    "        CHF=json_data['CHF']['name'],\n",
    "        SymbolCHF=json_data['CHF']['symbol'],\n",
    "        INR=json_data['INR']['name'],\n",
    "        SymbolINR=json_data['INR']['symbol'],\n",
    "        CNY=json_data['CNY']['name'],\n",
    "        SymbolCNY=json_data['CNY']['symbol']     \n",
    "    )\n",
    "    return symbol \n",
    "\n",
    "def save_to_file_symbol(symbol: CurrencySymbol):\n",
    "    try:\n",
    "        with open('symbol.json', 'w') as file:\n",
    "            json.dump(asdict(symbol), file)\n",
    "    except FileNotFoundError as ex:\n",
    "        print(ex)"
   ]
  },
  {
   "cell_type": "markdown",
   "metadata": {},
   "source": [
    "### Running all functions to obtain data and save it to JSON files\n",
    "#### Taking look at JSON data"
   ]
  },
  {
   "cell_type": "code",
   "execution_count": 7,
   "metadata": {},
   "outputs": [
    {
     "data": {
      "text/plain": [
       "ExchangeRate(date='2023-12-22', base='EUR', EUR=1, USD=1.1023, GBP=0.8666, PLN=4.342, SEK=11.0556, CHF=0.9417, INR=91.628, CNY=7.864)"
      ]
     },
     "execution_count": 7,
     "metadata": {},
     "output_type": "execute_result"
    }
   ],
   "source": [
    "def CurrencyExchangeJSON():\n",
    "    data = make_request_currency()\n",
    "    currency = create_final_json_currency(data)\n",
    "    save_to_file_currency(currency)\n",
    "    \n",
    "    return currency\n",
    "\n",
    "CurrencyExchangeJSON()   "
   ]
  },
  {
   "cell_type": "code",
   "execution_count": 8,
   "metadata": {},
   "outputs": [
    {
     "data": {
      "text/plain": [
       "CurrencySymbol(EUR='Euro', SymbolEuro='€', USD='US Dollar', SymbolUSD='$', GBP='British Pound', SymbolGBP='£', PLN='Polish Zloty', SymbolPLN='PLN', SEK='Swedish Krona', SymbolSEK='SEK', CHF='Swiss Franc', SymbolCHF='CHF', INR='Indian Rupee', SymbolINR='₹', CNY='Chinese Yuan', SymbolCNY='CN¥')"
      ]
     },
     "execution_count": 8,
     "metadata": {},
     "output_type": "execute_result"
    }
   ],
   "source": [
    "def CurrencySymbolJSON():\n",
    "    data = make_request_symbol()\n",
    "    symbol = create_final_json_symbol(data)\n",
    "    save_to_file_symbol(symbol)\n",
    "    \n",
    "    return symbol\n",
    "\n",
    "CurrencySymbolJSON()"
   ]
  }
 ],
 "metadata": {
  "kernelspec": {
   "display_name": "Python 3",
   "language": "python",
   "name": "python3"
  },
  "language_info": {
   "codemirror_mode": {
    "name": "ipython",
    "version": 3
   },
   "file_extension": ".py",
   "mimetype": "text/x-python",
   "name": "python",
   "nbconvert_exporter": "python",
   "pygments_lexer": "ipython3",
   "version": "3.11.5"
  }
 },
 "nbformat": 4,
 "nbformat_minor": 2
}
